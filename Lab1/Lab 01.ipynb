{
 "cells": [
  {
   "cell_type": "markdown",
   "metadata": {},
   "source": [
    "###### Deliverables:  30 total points\n",
    "  - helloMe 4 points\n",
    "  - helloAgain 5 points\n",
    "  - myBio 6 points\n",
    "  - countAT-bugsSoln 9 points\n",
    "  - countNucleotides 6 points\n",
    "     \n",
    "## Due: Monday April 6, 2020 11:55pm \n",
    "## Lab 1 – Introduction to Python (30 points)\n",
    "Work in pairs. Find youself a partner who you will hopefully work with throughout the quarter.\n",
    "Although you are required to turn in independent code and answers yourself, you are encouraged to ask questions and work with each other to solve these exercises. Programming has a lot of area-specific vocabulary and concepts so it is often extremely helpful to ask for help when you run up against hurdles. Make sure to include your partners name as a comment in the first few lines of your program, like this:"
   ]
  },
  {
   "cell_type": "code",
   "execution_count": null,
   "metadata": {},
   "outputs": [],
   "source": [
    "#!/usr/bin/env python3 \n",
    "# Name: Your full name (CATS account username) \n",
    "# Group Members: List full names (CATS usernames) or “None”"
   ]
  },
  {
   "cell_type": "markdown",
   "metadata": {},
   "source": [
    "## Setup your workspace\n",
    "### Install Anaconda on your machine\n",
    "From the machine that you intend to do all of your work for BME 160, go to: https://www.anaconda.com/distribution/\n",
    "From that page, select the Python 3.7 version by using the download button. This may take awhile, depending on your internet connection speed.\n",
    "### Downloading your first notebook\n",
    "The document you are now reading is a jupyter notebook. It is available for download using our class website service Canvas. \n",
    "First we will need to create a folder that you’ll use for this lab. To do this create a folder called bme160 on the desktop.\n",
    "From Canvas :: files :: jupyter, download Lab01.ipynb, and place it into your bme160 folder.\n",
    "\n",
    "There are five programs you will need to write. They are all embedded in Lab01.ipynb as jupyter \"cells\". Make sure to place Lab01.ipynb into your Lab01 folder.\n",
    "### Accessing Jupyter\n",
    "####  Open jupyter\n",
    "\n",
    "There are a number of ways to startup jupyter. Here are a few:\n",
    " -  LocalHost  Open _terminal_ ( located in the utilities folder on MacOS ), then change to the Lab01 directory and startup: jupyter notebook\n",
    " - https://try.jupyter.org you will then need to upload Lab 01.ipynb to that remote server. This server enforces a 10-minute inactivity limit, so you will need to save your work often. Note that this remote server sometimes doesnt run.\n",
    " - Anaconda Navigator. Startup Anaconda, then select: jupyter notebook. From Jupyter, you can then navigate to your Desktop, then to bme160, and then open Lab01.ipynb. That should bring you to a page that looks just like the Lab01 assignment.\n",
    "\n",
    "Try out __jupyter__ by selecting the following cell, then push the \"run\" button in the toolbar above, or pull down the _Cell_ menu above and select Run Cells. Notice that cells that contain runable code start with In [ ]: "
   ]
  },
  {
   "cell_type": "code",
   "execution_count": null,
   "metadata": {},
   "outputs": [],
   "source": [
    "print ('hello Barak')"
   ]
  },
  {
   "cell_type": "markdown",
   "metadata": {},
   "source": [
    "make sure that “hello” is returned.\n",
    "\n",
    "From here on, you will be writing programs. \n",
    "## First python program\n",
    "The hello.py program is one of the first python programs that people write.\n",
    "\n",
    "Documenting code is an important and often overlooked process in software engineering. Don’t fall into the trap of not adding comments to your code! Note, you will not receive full credit on your assignment if your code is not clearly documented. To add comments you use the ’#’ character for single line comments, or you can use triple-quotes (“””) to begin a block of comments and then add another set of triple-quotes to end that block comment.\n",
    "\n",
    "To get an idea of what documenting and comments look like, here is an old-school version of the ’hello.py’ program,  documented:"
   ]
  },
  {
   "cell_type": "code",
   "execution_count": null,
   "metadata": {},
   "outputs": [],
   "source": [
    "#!/usr/bin/env python3\n",
    "# Name: David Bernick (dbernick)\n",
    "# Group Members: John Cleese (jcleese) and Eric Idle (eidle)\n",
    "\n",
    "\"\"\"\n",
    "Print out the string Hello World when run.\n",
    "\"\"\"\n",
    "# remember that strings in python use either single (') or double (\") quotes.\n",
    "print (\"Hello World\")"
   ]
  },
  {
   "cell_type": "markdown",
   "metadata": {},
   "source": [
    "Add your own similar-looking documentation and comments to the the following code, customizing it for yourself, and lets make it print: Hello __your name__ instead. In my case, it would print \"Hello David\""
   ]
  },
  {
   "cell_type": "markdown",
   "metadata": {},
   "source": [
    "## helloMe"
   ]
  },
  {
   "cell_type": "code",
   "execution_count": 1,
   "metadata": {},
   "outputs": [
    {
     "name": "stdout",
     "output_type": "stream",
     "text": [
      "Hello Sahasra\n"
     ]
    }
   ],
   "source": [
    "#!/usr/bin/env python3\n",
    "# Name: Sahasra Shankar(sshanka8)\n",
    "# Group Members: none\n",
    "\n",
    "\"\"\"\n",
    "Print out the most common statement in computer programming, Hello World.\n",
    "\"\"\" \n",
    "class Announcer (str): # Announcer is now defined as a kind of python string.\n",
    "    \"\"\"class takes in string and outputs print statement\"\"\"\n",
    "    def printMe (self):\n",
    "        \"\"\"object takes inputted string and outputs print statement\"\"\"\n",
    "        print (self)\n",
    "\n",
    "student = Announcer ('Hello Sahasra')\n",
    "student.printMe()"
   ]
  },
  {
   "cell_type": "markdown",
   "metadata": {},
   "source": [
    "There are a few things to mention about this style of coding. Classes are templates for _objects_. The _announcer_ class is a kind of _string_ class, and we tell python that by including (str) after the name of the class. We have added a method ( printme) to the announcer class, and that method allows objects of class announcer to _print_ themselves. In python, we access data that is saved in an object using the word _self_. Since objects of this class are strings, _self_ refers to the data ('Hello David' in this case). You will notice that python methods are defined using the keyword: def _name_ ( self, parameters)\n",
    "\n",
    "The line: _student = announcer ('Hello David')_ creates a new name (student), of class _announcer_ and it is given a parameter _'Hello David'_. That parameter is given to announcer as its data. Objects of class announcer refer to that data using the name _self_. \n",
    "\n",
    "The line: _student.printme()_ sends a printme() message to the student object, and the student object then prints out its data."
   ]
  },
  {
   "cell_type": "markdown",
   "metadata": {},
   "source": [
    "## Return of “Hello World”\n",
    "We will now take a look at a more sophisticated, second person version of _helloMe_. \n",
    "As currently written, it should ask you to enter a name; you type in the name and then press the _enter_ key (maybe labelled return).\n",
    "\n",
    "The output you should see is:\n",
    "\n",
    "Hi there, I am _name_\n",
    "\n",
    "Look at _helloAgain_ below. You’ll notice that it’s more complex and longer than _helloMe_. \n",
    "Now modify _helloAgain_ so that, in addition to asking for that person’s name, the program also prompts the user for their favorite pet like this:\n",
    "\n",
    "“What is your favorite pet? :”\n",
    "\n",
    "To make this clearer, here are a few lines that belong in your revised _helloAgain_."
   ]
  },
  {
   "cell_type": "code",
   "execution_count": null,
   "metadata": {},
   "outputs": [],
   "source": [
    "name = input( \"What is your name? : \" )\n",
    "pet = input( \"What is your favorite kind of pet? : \")\n",
    "newPerson = person (name, pet)\n",
    "newPerson.introduce()"
   ]
  },
  {
   "cell_type": "markdown",
   "metadata": {},
   "source": [
    "### helloAgain"
   ]
  },
  {
   "cell_type": "code",
   "execution_count": 4,
   "metadata": {},
   "outputs": [
    {
     "name": "stdout",
     "output_type": "stream",
     "text": [
      "What is your name? : Sahasra\n",
      "What is your favorite kind of pet? : hippo\n",
      "Hi there, I am Sahasra, and I like hippos\n"
     ]
    }
   ],
   "source": [
    "#!/usr/bin/env python3\n",
    "# Name: David Bernick(dbernick)\n",
    "# Group Members: none\n",
    "\n",
    "\"\"\"\n",
    "Build a Person object and have it introduce itself.\n",
    "\n",
    "input: a string of arbitrary length, which is used to name the new person object\n",
    "output: greeting printed to screen\n",
    "\"\"\"\n",
    "\n",
    "class Person:\n",
    "    \"\"\"takes in name and pet parameters and sets to self to then put into print statement\"\"\"\n",
    "    def __init__(self,name,pet):  \n",
    "        \"\"\"instantiates name and pet as self\"\"\"\n",
    "        self.myName = name\n",
    "        self.myPet  = pet\n",
    "        \n",
    "    def introduce (self): \n",
    "        \"\"\"prints statement with inputted strings of name and pet\"\"\"\n",
    "        print (\"Hi there, I am {0}, and I like {1}s\".format(self.myName,self.myPet))\n",
    "\n",
    "def main ():\n",
    "    \"\"\"outputs questions first and stores inputs under name and pet and then runs them through class objects\"\"\"\n",
    "    name = input( \"What is your name? : \" )\n",
    "    pet = input( \"What is your favorite kind of pet? : \")\n",
    "    newPerson = Person (name, pet)\n",
    "    newPerson.introduce()\n",
    "\n",
    "main()"
   ]
  },
  {
   "cell_type": "markdown",
   "metadata": {},
   "source": [
    "Your new version of _helloAgain_ should now print something that looks like this: \n",
    "\n",
    "“Hi there, I am _name_ and I like _pets_ !”\n",
    "\n",
    "replacing the italicized text with what the user entered at the command line. Note the statement uses a plural form by appending the letter s, your program should do this too.\n",
    "\n",
    "So, if you decided that your new person is named Fred, and Fred is fond of his pet aardvark, then your program would\n",
    "output:\n",
    "\n",
    "Hi there, I am Fred and I like aardvarks!\n",
    "\n",
    "Remember to save and add documentation/comments to _helloAgain_ ."
   ]
  },
  {
   "cell_type": "markdown",
   "metadata": {},
   "source": [
    "## Brief Biography Program\n",
    "Now that you’ve gotten a little experience programming and seen a few python programs, next you’ll write a program that will do the following:\n",
    "\n",
    "  - Print your full name (first and last)\n",
    "  - Print your CATS/CruzMail username\n",
    "  - Print whether your are an undergraduate or graduate student\n",
    "  - Print your major\n",
    "  - Print why you are taking this class and what you hope to get out of it\n",
    "  - What problem in molecular biology most interests you.\n",
    "  - Print your prior computer programming experience\n",
    "\n",
    "This program should NOT ask the user for this data. This data should be constants in your program. The constants should NOT be part of the person class -- use parameters that are given to your person object when it is instantiated. \n",
    "The name of the program is “myBio” and a sample execution of the program should look something like this:\n",
    "\n",
    "My name is _**David Bernick**_. <br>\n",
    "My username is _**dbernick**_. <br>\n",
    "I am a _**professor**_. <br>\n",
    "My major is _**Bioinformatics and Biomolecular Engineering**_. <br>\n",
    "_**I’m  not taking this class, but I teach it**_. <br>\n",
    "_**I am a synthetic bioengineer and I’m interested in  extreme life, especially hypertherthermophiles and hypersalinophiles, with a focus on small RNA and novel proteins from extreme viruses.**_ <br>\n",
    "I have prior programming experience using _**Python, Perl, Java, Fortran, Pascal, PL/1, ADA, Basic,TPL, APL, Assembly, and C++ (Im not very fond of this though)**_. <br>\n",
    "\n",
    "Each piece of info should occupy only a single line.\n",
    "\n",
    "In order to get full credit, the program must use attributes of the person class for each of the _**emphasized strings**_ above and contain appropriate documentation/comments. \n",
    "\n",
    "Note that in Python, *names* that are part of a class are called *attributes*. Functions that are part of a class are called *methods*. In other languages, *names* are sometimes called *variables*."
   ]
  },
  {
   "cell_type": "markdown",
   "metadata": {},
   "source": [
    "### myBio"
   ]
  },
  {
   "cell_type": "code",
   "execution_count": 91,
   "metadata": {},
   "outputs": [
    {
     "name": "stdout",
     "output_type": "stream",
     "text": [
      "My name is Sahasra Shankar.\n",
      "My username is sshanka8.\n",
      "I am a student.\n",
      "My major is Bioinformatics.\n",
      "I am taking this class because my interest in genetics has grown a lot this last year and I hope to delve more into the field through this course.\n",
      "I am most interested about learning how gene editing can impact the presence of viruses in our lives.\n",
      "As of now I have some knowledge of Java and I am currently getting into R.\n"
     ]
    }
   ],
   "source": [
    "#!/usr/bin/env python3\n",
    "# Name: Sahasra Shankar(sshanka8)\n",
    "# Group Members: none\n",
    "\n",
    "\"\"\"\n",
    "Build a Person object and have it introduce itself.\n",
    "\n",
    "input: a string of arbitrary length, which is used to name the new person object\n",
    "output: greeting printed to screen\n",
    "\"\"\"\n",
    "\n",
    "class Person: \n",
    "    \"\"\"sets given parameters to self to then put into separate print statements\"\"\"\n",
    "    def __init__(self,name,username,studentType,major,purpose,interest,priorExp):\n",
    "        \"sets inputs to self\"\n",
    "        self.myName = name\n",
    "        self.myUser = username\n",
    "        self.student = studentType\n",
    "        self.myMajor = major\n",
    "        self.myPurpose = purpose\n",
    "        self.myInterest = interest\n",
    "        self.myPriorExp = priorExp\n",
    "\n",
    "    def introduce (self):\n",
    "        \"\"\"puts new self strings into print statements\"\"\"\n",
    "        print (\"My name is {0}\".format(self.myName))  #each {0} because on separate lines\n",
    "        print (\"My username is {0}\".format(self.myUser))\n",
    "        print (\"I am a {0}\".format(self.student))\n",
    "        print (\"My major is {0}\".format(self.myMajor))\n",
    "        print (\"I am taking this class because {0}\".format(self.myPurpose))\n",
    "        print (\"I am most interested about {0}\".format(self.myInterest))\n",
    "        print (\"As of now I have {0}\".format(self.myPriorExp))\n",
    "        \n",
    "\n",
    "\n",
    "def main():\n",
    "    \"\"\"sets strings under name, username, etc. and then runs class objects\"\"\"\n",
    "    name = 'Sahasra Shankar.'\n",
    "    username = 'sshanka8.'\n",
    "    studentType = 'student.'\n",
    "    major = 'Bioinformatics.'\n",
    "    purpose = 'my interest in genetics has grown a lot this last year and I hope to delve more into the field through this course.'\n",
    "    interest = 'learning how gene editing can impact the presence of viruses in our lives.'\n",
    "    priorExp = 'some knowledge of Java and I am currently getting into R.'\n",
    "    myBio = Person(name,username,studentType,major,purpose,interest,priorExp)\n",
    "    myBio.introduce()\n",
    "    \n",
    "\n",
    "main()\n"
   ]
  },
  {
   "cell_type": "markdown",
   "metadata": {},
   "source": [
    "## Debug buggy code\n",
    "Practice makes us better; usually debugging makes code closer to perfect. \n",
    "This program is supposed to ask the user to enter a DNA sequence and then output the AT content of the sequence— total number of As and Ts divided by the sequence length—as a fraction of the total sequence length (a number between 0 and 1).\n",
    "\n",
    "For example, given the string:\n",
    "\n",
    "AAAATGAATGGCTAACTTTTGAA\n",
    "\n",
    "the program should output: (make sure that you pay attention to the number of significant digits in the output!)\n",
    "\n",
    "AT content = 0.739\n",
    "\n",
    "Unfortunately there are a few bugs in the program. Your task is to identify and correct those bugs. This part of the assignment is to help familiarize you with the debugging process. It is possible to identify the bugs without using any of the following techniques just by looking over the program, but this will be good practice and will be essential when your code gets more complex.\n",
    "\n",
    "To debug countAT-bugs.py, run the program, which will produce an error. Figure out what the error is and correct the code. It’s likely that after you correct the first error you will notice another error. Repeat this process until you fix all the bugs and the program runs properly.\n",
    "\n",
    "Save a corrected copy of the program called countAT-bugsSoln.py that includes: \n",
    "  - Documentation and comments\n",
    "  - A program overview that includes how many bugs you found and what lines from the original file they were found at."
   ]
  },
  {
   "cell_type": "markdown",
   "metadata": {},
   "source": [
    "## countAT-bugs"
   ]
  },
  {
   "cell_type": "code",
   "execution_count": 100,
   "metadata": {},
   "outputs": [
    {
     "name": "stdout",
     "output_type": "stream",
     "text": [
      "Enter a DNA sequence: A G\n",
      "AT content = 0.500\n"
     ]
    }
   ],
   "source": [
    "#!/usr/bin/env python3\n",
    "# Name: Sahasra Shankar(sshanka8)\n",
    "# Group Members: Shweta Jones, Pranav Muthuraman\n",
    "\n",
    "class dnaString (str):\n",
    "     \"\"\"gets length of inputted DNA and returns AT content\"\"\"\n",
    "    def length (self):  \n",
    "        \"\"\"returns length of uppercased, inputted DNA\"\"\" \n",
    "        return (len(self))\n",
    "    \n",
    "    def remove (self):   \n",
    "        \"\"\"removes whitespaces in input\"\"\"  #bug: this part of code was nonexistent in original\n",
    "        return \"\".join(self.split())\n",
    "    \n",
    "    def getAT (self):\n",
    "        \"\"\"calculates AT content of DNA string\"\"\"\n",
    "        num_A = self.count('A') #made A 'A' (bug)\n",
    "        num_T = self.count('T') #made \"T\" 'T' for convenience\n",
    "        return ((num_A + num_T)/len(self)) #bug len.self changed to len(self)\n",
    "    \n",
    "def main(): \n",
    "    \"\"\"makes input all uppercase and runs it through class objects\"\"\" #added main() (bug)\n",
    "    dna = input(\"Enter a DNA sequence: \") #inputted DNA stored in 'dna'\n",
    "    realDna = dnaString.remove(dna)\n",
    "    upperDNA = realDna.upper() #makes input all uppercase\n",
    "    coolString = dnaString(upperDNA) #coolString is result when upperDNA goes through dnaString\n",
    "    print (\"AT content = {0:0.3f}\".format(coolString.getAT()) ) #prints AT content to 3 sig figs (bug)\n",
    "\n",
    "\n",
    "main() #added so that code would be executed (bug)\n",
    "\n",
    "#total bugs: 6 bugs (@lines 10,14,16,18,19,23)"
   ]
  },
  {
   "cell_type": "markdown",
   "metadata": {},
   "source": [
    "# Counting DNA Letters \n",
    "Now that you are inspired by your ability to debug the countAT-bugs code, let's create a new program that will ask the user to enter a DNA sequence and then output the total sequence length and \n",
    "the number of each base {total As, Cs, Gs, Ts} found in the sequence. \n",
    "For example, given the string:\n",
    "\n",
    "AAAATGAATGGCTAACTTTTGAA\n",
    "\n",
    "the program should output:\n",
    "\n",
    "Your sequence is 23 nucleotides long with the following breakdown of bases:\n",
    "\n",
    "number As = 10\n",
    "number Cs = 2\n",
    "number Gs = 4\n",
    "number Ts = 7\n",
    "\n",
    "Write a program called countNucleotides (put it below) that will take in a DNA sequence entered by a user and produce the outputs specified above. Note that \"specified\" means ... \"required\"\n",
    "\n",
    "To get full credit on this assignment, your code needs to:\n",
    "\n",
    "  * Run properly\n",
    "  * Contain documentation/comments\n",
    "  * Include an overview about what your program is designed to do with expected inputs and outputs. Use a MarkDown Cell to write your overview."
   ]
  },
  {
   "cell_type": "markdown",
   "metadata": {},
   "source": [
    "### countNucleotides"
   ]
  },
  {
   "cell_type": "code",
   "execution_count": 90,
   "metadata": {},
   "outputs": [
    {
     "name": "stdout",
     "output_type": "stream",
     "text": [
      "Enter a DNA sequence: AAAATGAATGGCTAACTTTTGAA\n",
      "Your sequence is 23 nucleotides long with the following breakdown of bases:\n",
      "number of As = 10\n",
      "number of Ts = 7\n",
      "number of Gs = 4\n",
      "number of Cs = 2\n"
     ]
    }
   ],
   "source": [
    "#!/usr/bin/env python3\n",
    "# Name: Sahasra Shankar(sshanka8)\n",
    "# Group Members: Shweta Jones, Pranav Muthuraman\n",
    "\n",
    "class dnaString (str):\n",
    "    \"\"\"takes in DNA input to return length and number of A,T,C,Gs it has\"\"\"\n",
    "    \n",
    "    def length (self):  \n",
    "        \"\"\"returns length of inputted DNA\"\"\"\n",
    "        return(len(self))\n",
    "             \n",
    "    def getA (self):  #made counts of each nucleotide separate object bc more straightforward\n",
    "        \"\"\"returns number of As in DNA\"\"\"\n",
    "        num_A = self.count('A')\n",
    "        return num_A\n",
    "\n",
    "    def getT (self):   \n",
    "        \"\"\"get number of Ts in DNA\"\"\"\n",
    "        num_T = self.count('T')\n",
    "        return num_T\n",
    "    \n",
    "    def getG (self):   \n",
    "        \"\"\"get number of Gs in DNA\"\"\"\n",
    "        num_G = self.count('G')\n",
    "        return num_G\n",
    "    \n",
    "    def getC (self):   \n",
    "        \"\"\"get number of Cs in DNA\"\"\"\n",
    "        num_C = self.count('C')\n",
    "        return num_C\n",
    "        \n",
    "def main():\n",
    "    \"\"\"makes DNA input all uppercase to run through called class objects that are put into print statements\"\"\"\n",
    "    dna = input(\"Enter a DNA sequence: \")\n",
    "    upperDNA = dna.upper()  #.upper is in-built Python method\n",
    "    coolString = dnaString(upperDNA)\n",
    "    \n",
    "    print (\"Your sequence is {0} nucleotides long with the following breakdown of bases:\".format(coolString.length()))\n",
    "    print (\"number of As = {0}\".format(coolString.getA()))\n",
    "    print (\"number of Ts = {0}\".format(coolString.getT()))\n",
    "    print (\"number of Gs = {0}\".format(coolString.getG()))\n",
    "    print (\"number of Cs = {0}\".format(coolString.getC()))\n",
    "\n",
    "main()\n",
    "    \n",
    "#expected input: dna string (ex. AAAATGAATGGCTAACTTTTGAA)\n",
    "#expected output: Your sequence is 23 nucleotides long with the following breakdown of bases:\n",
    "\n",
    "#number As = 10\n",
    "#number Ts = 7\n",
    "#number Gs = 4\n",
    "#number Cs = 2\n",
    "\n",
    "\n"
   ]
  },
  {
   "cell_type": "markdown",
   "metadata": {},
   "source": [
    "## Submit your code and answers\n",
    "Important: please save your work before logging out of the computer. This will ensure that you have a copy of your work and you will avoid having to redo everything in the event that something happens. The two recommended solutions (pick one) at this point are to:\n",
    "\n",
    "  - Email your jupyter notebook to yourself\n",
    "  - Copy your notebook to a pen drive\n",
    "  \n",
    "The class will be using canvas to submit the notebook created as part of this lab assignment.\n",
    "\n",
    "For this lab, you should upload your notebook with the following cells filled in\n",
    "\n",
    "  * helloMe 4 points\n",
    "  * helloAgain 5 points\n",
    "  * myBio 6 points\n",
    "  * countAT-bugsSoln 9 points\n",
    "  * countNucleotides 6 points \n",
    "\n",
    "Important: to get full credit on this lab assignment, everything needs to\n",
    "\n",
    "  * Run properly\n",
    "  * Contain informative documentation/comment, including your name and your partner\n",
    "  * be your own work\n",
    "\n",
    "Congratulations, you finished your first lab assignment!"
   ]
  }
 ],
 "metadata": {
  "kernelspec": {
   "display_name": "Python 3",
   "language": "python",
   "name": "python3"
  },
  "language_info": {
   "codemirror_mode": {
    "name": "ipython",
    "version": 3
   },
   "file_extension": ".py",
   "mimetype": "text/x-python",
   "name": "python",
   "nbconvert_exporter": "python",
   "pygments_lexer": "ipython3",
   "version": "3.7.6"
  }
 },
 "nbformat": 4,
 "nbformat_minor": 2
}
